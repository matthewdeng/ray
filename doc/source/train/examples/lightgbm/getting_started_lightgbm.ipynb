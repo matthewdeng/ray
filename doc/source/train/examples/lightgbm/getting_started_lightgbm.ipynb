# Getting Started with LightGBM and Ray Train

This notebook demonstrates how to use Ray Train with LightGBM for distributed training.

## Prerequisites

Install the required dependencies:

```bash
pip install -U "ray[data,train]" lightgbm pandas
```{
 "cells": [],
 "metadata": {
  "language_info": {
   "name": "python"
  }
 },
 "nbformat": 4,
 "nbformat_minor": 2
}
